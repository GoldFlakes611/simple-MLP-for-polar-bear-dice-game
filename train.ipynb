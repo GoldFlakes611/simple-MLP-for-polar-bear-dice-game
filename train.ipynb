{
 "cells": [
  {
   "cell_type": "code",
   "execution_count": null,
   "id": "initial_id",
   "metadata": {
    "collapsed": true
   },
   "outputs": [],
   "source": [
    "#import the libraries\n",
    "import torch\n",
    "import pandas as pd\n",
    "import torch.nn as nn\n",
    "import torch.optim as optim"
   ]
  },
  {
   "cell_type": "code",
   "execution_count": null,
   "outputs": [],
   "source": [
    "if torch.cuda.is_available():\n",
    "    device = torch.device(\"cuda\")"
   ],
   "metadata": {
    "collapsed": false
   },
   "id": "d7a4d25124792aa"
  },
  {
   "cell_type": "code",
   "execution_count": null,
   "outputs": [],
   "source": [
    "#load the dataset\n",
    "dataset = pd.read_csv(\"output.csv\") #edit path if needed\n",
    "dataset=dataset.drop(dataset.columns[[0]], axis=1)\n",
    "X = dataset.iloc[:, 0:5].values\n",
    "Y = dataset.iloc[:, 5:].values"
   ],
   "metadata": {
    "collapsed": false
   },
   "id": "5c4bb058a6f55252"
  },
  {
   "cell_type": "code",
   "execution_count": null,
   "outputs": [],
   "source": [
    "#split the dataset into training and testing\n",
    "from sklearn.model_selection import train_test_split\n",
    "x_train, x_test, y_train, y_test = train_test_split(X, Y, test_size = 0.2, random_state = 0)"
   ],
   "metadata": {
    "collapsed": false
   },
   "id": "7af279928c1991d"
  },
  {
   "cell_type": "code",
   "execution_count": null,
   "outputs": [],
   "source": [
    "#convert the data to torch tensors\n",
    "x_train, y_train, x_test, y_test =torch.tensor(x_train, dtype=torch.float32, device=device), torch.tensor(y_train, dtype=torch.float32, device=device), torch.tensor(x_test, dtype=torch.float32, device=device),torch.tensor(y_test, dtype=torch.float32, device=device)"
   ],
   "metadata": {
    "collapsed": false
   },
   "id": "c590f5d24ee1ba8c"
  },
  {
   "cell_type": "code",
   "execution_count": null,
   "outputs": [],
   "source": [
    "#hyperparameters\n",
    "#hyperparameters provided have been tuned using optuna\n",
    "n_epoch = 30000 #number of epochs\n",
    "batch_size = 80000 #batch size\n",
    "lr = 0.006169410626430787 # learning rate\n",
    "l1 = 127 # size of hidden layer 1"
   ],
   "metadata": {
    "collapsed": false
   },
   "id": "38bf3f7827eeb302"
  },
  {
   "cell_type": "code",
   "execution_count": null,
   "outputs": [],
   "source": [
    "#build the neural network\n",
    "class PolarBear(nn.Module):\n",
    "    def __init__(self,l1):\n",
    "        super().__init__()\n",
    "        self.input = nn.Linear(5,l1)\n",
    "        self.input_act = nn.ReLU()\n",
    "        self.output = nn.Linear(l1,3)\n",
    "    def forward(self,x):\n",
    "        x = self.input_act(self.input(x))\n",
    "        x = self.output(x)\n",
    "        return x "
   ],
   "metadata": {
    "collapsed": false
   },
   "id": "4ea5efbe056127c1"
  },
  {
   "cell_type": "code",
   "execution_count": null,
   "outputs": [],
   "source": [
    "#training loop\n",
    "def train(model, x_train, y_train, n_epoch,lr,batch_size, verbose=1):\n",
    "    losses = []\n",
    "    loss_fn = nn.MSELoss()\n",
    "    optimizer = optim.Adam(model.parameters(), lr=lr)\n",
    "    for epoch in range(n_epoch):\n",
    "        for i in range(0,len(x_train),batch_size):\n",
    "            Xbatch = x_train[i:i+batch_size]\n",
    "            Ybatch = y_train[i:i+batch_size]\n",
    "            y_pred = model(Xbatch)\n",
    "            loss = loss_fn(y_pred, Ybatch)\n",
    "            optimizer.zero_grad()\n",
    "            loss.backward()\n",
    "            optimizer.step()\n",
    "        losses.append(float(loss))\n",
    "        if verbose == 1:\n",
    "            print(f'epoch: {epoch}/{n_epoch}, loss: {loss:.2f}', end='\\r')\n",
    "    return model, losses"
   ],
   "metadata": {
    "collapsed": false
   },
   "id": "6d5cbdc53a8472d6"
  },
  {
   "cell_type": "code",
   "execution_count": null,
   "outputs": [],
   "source": [
    "#train the model\n",
    "model = PolarBear(l1)\n",
    "model.to(device)\n",
    "model, losses = train(model,x_train,y_train,n_epoch,lr,batch_size)"
   ],
   "metadata": {
    "collapsed": false
   },
   "id": "3d05a2de9da0a989"
  },
  {
   "cell_type": "code",
   "execution_count": null,
   "outputs": [],
   "source": [
    "#testing\n",
    "r_count = 0\n",
    "l_count = 0\n",
    "for c in range(len(x_test)):\n",
    "    result = torch.eq(torch.round(model(x_test[c])),y_test[c])\n",
    "    for i in result:\n",
    "        l = bool(i.item())\n",
    "        if l == True:\n",
    "            r_count += 1\n",
    "        else: \n",
    "            l_count += 1\n",
    "print(f'{r_count}/60000, accuracy = {r_count/60000}')"
   ],
   "metadata": {
    "collapsed": false
   },
   "id": "1f7d8e14678fee8a"
  },
  {
   "cell_type": "code",
   "execution_count": null,
   "outputs": [],
   "source": [
    "#plot the training loss\n",
    "%matplotlib inline\n",
    "import matplotlib.pyplot as plt\n",
    "y_axis = list(range(0, len(losses)))\n",
    "plt.xlabel(\"epoch\")\n",
    "plt.ylabel(\"loss\")\n",
    "plt.title(\"Training\")\n",
    "plt.plot(y_axis,losses);"
   ],
   "metadata": {
    "collapsed": false
   },
   "id": "fd2c3250e89eb649"
  },
  {
   "cell_type": "code",
   "execution_count": null,
   "outputs": [],
   "source": [
    "#saving the model\n",
    "torch.save(model.state_dict(), \"model.pt\")"
   ],
   "metadata": {
    "collapsed": false
   },
   "id": "dda498130edec3d"
  },
  {
   "cell_type": "code",
   "execution_count": null,
   "outputs": [],
   "source": [
    "#loading the model\n",
    "model.load_state_dict(torch.load(\"model.pt\"))"
   ],
   "metadata": {
    "collapsed": false
   },
   "id": "5bde66ee6c870cf3"
  },
  {
   "cell_type": "code",
   "execution_count": null,
   "outputs": [],
   "source": [],
   "metadata": {
    "collapsed": false
   },
   "id": "f86fa385caf5b4ef"
  }
 ],
 "metadata": {
  "kernelspec": {
   "display_name": "Python 3",
   "language": "python",
   "name": "python3"
  },
  "language_info": {
   "codemirror_mode": {
    "name": "ipython",
    "version": 2
   },
   "file_extension": ".py",
   "mimetype": "text/x-python",
   "name": "python",
   "nbconvert_exporter": "python",
   "pygments_lexer": "ipython2",
   "version": "2.7.6"
  }
 },
 "nbformat": 4,
 "nbformat_minor": 5
}
